{
  "nbformat": 4,
  "nbformat_minor": 0,
  "metadata": {
    "colab": {
      "provenance": [],
      "authorship_tag": "ABX9TyM6N5PB+Jbb5Gn+y+1FUtPW",
      "include_colab_link": true
    },
    "kernelspec": {
      "name": "python3",
      "display_name": "Python 3"
    },
    "language_info": {
      "name": "python"
    }
  },
  "cells": [
    {
      "cell_type": "markdown",
      "metadata": {
        "id": "view-in-github",
        "colab_type": "text"
      },
      "source": [
        "<a href=\"https://colab.research.google.com/github/RaymanPython/ASTRO/blob/main/lab.ipynb\" target=\"_parent\"><img src=\"https://colab.research.google.com/assets/colab-badge.svg\" alt=\"Open In Colab\"/></a>"
      ]
    },
    {
      "cell_type": "code",
      "execution_count": null,
      "metadata": {
        "id": "Lfn25SknRPCB"
      },
      "outputs": [],
      "source": [
        "!pip install pandas\n"
      ]
    },
    {
      "cell_type": "code",
      "source": [
        "!pip install matplotlib\n"
      ],
      "metadata": {
        "id": "NBH_bSuXSMD4"
      },
      "execution_count": null,
      "outputs": []
    },
    {
      "cell_type": "code",
      "source": [
        "import random\n",
        "import pandas as pd\n",
        "import matplotlib.pyplot as plt\n",
        "\n",
        "# Создаем набор данных с 4 группами, по 3 студента в каждой\n",
        "data = {\n",
        "    'Группа': [f'Группа {i+1}' for i in range(12)],\n",
        "    'ФИО': [f'Студент {i+1} Группа {j+1}' for j in range(4) for i in range(3)],\n",
        "    'Предмет 1': [random.randint(0, 100) for _ in range(12)],\n",
        "    'Предмет 2': [random.randint(0, 100) for _ in range(12)],\n",
        "    'Предмет 3': [random.randint(0, 100) for _ in range(12)],\n",
        "    'Общий балл': [0 for _ in range(12)]\n",
        "}\n",
        "\n",
        "# Создаем DataFrame из набора данных\n",
        "df = pd.DataFrame(data)\n",
        "\n",
        "# Вычисляем общий балл для каждого студента\n",
        "df['Общий балл'] = df['Предмет 1'] + df['Предмет 2'] + df['Предмет 3']\n",
        "\n",
        "# Выводим статистические сведения о студентах\n",
        "print(\"Статистические сведения о студентах:\")\n",
        "print(df.describe())\n",
        "print()\n",
        "\n",
        "# Находим студента с максимальным общим баллом\n",
        "max_student = df.loc[df['Общий балл'].idxmax()]\n",
        "print(\"Студент с максимальным общим баллом:\")\n",
        "print(max_student)\n",
        "print()\n",
        "\n",
        "# Находим студента с минимальным общим баллом\n",
        "min_student = df.loc[df['Общий балл'].idxmin()]\n",
        "print(\"Студент с минимальным общим баллом:\")\n",
        "print(min_student)\n",
        "print()\n",
        "\n",
        "# Находим информацию о студенте по его фамилии\n",
        "name = input(\"Введите фамилию студента: \")\n",
        "student_info = df[df['ФИО'].str.contains(name)]\n",
        "print(f\"Информация о студенте {name}:\")\n",
        "print(student_info)\n",
        "print()\n",
        "\n",
        "# Выводим информацию по успеваемости одной группы\n",
        "group_num = int(input(\"Введите номер группы (1-4): \"))\n",
        "group_info = df[df['Группа'] == f'Группа {group_num}']\n",
        "print(f\"Информация по успеваемости группы {group_num}:\")\n",
        "print(group_info)\n",
        "print()\n",
        "\n",
        "# Строим диаграмму по общему баллу успеваемости студентов\n",
        "plt.figure(figsize=(12, 6))\n",
        "df['Общий балл'].plot(kind='bar')\n",
        "plt.title('Общий балл успеваемости студентов')\n",
        "plt.xlabel('Студент')\n",
        "plt.ylabel('Общий балл')\n",
        "plt.show()\n"
      ],
      "metadata": {
        "colab": {
          "base_uri": "https://localhost:8080/",
          "height": 1000
        },
        "id": "JjiA8v8vSOQz",
        "outputId": "0bca3569-065a-4535-c1c1-00975d7912cc"
      },
      "execution_count": null,
      "outputs": [
        {
          "output_type": "stream",
          "name": "stdout",
          "text": [
            "Статистические сведения о студентах:\n",
            "       Предмет 1  Предмет 2  Предмет 3  Общий балл\n",
            "count  12.000000  12.000000  12.000000   12.000000\n",
            "mean   53.833333  36.333333  45.916667  136.083333\n",
            "std    31.440661  18.232505  33.216804   43.477180\n",
            "min     0.000000   7.000000   1.000000   65.000000\n",
            "25%    21.750000  28.750000  28.000000  101.000000\n",
            "50%    63.500000  32.500000  44.000000  144.000000\n",
            "75%    76.250000  45.750000  61.750000  167.750000\n",
            "max    99.000000  69.000000  99.000000  202.000000\n",
            "\n",
            "Студент с максимальным общим баллом:\n",
            "Группа                 Группа 11\n",
            "ФИО           Студент 2 Группа 4\n",
            "Предмет 1                     77\n",
            "Предмет 2                     34\n",
            "Предмет 3                     91\n",
            "Общий балл                   202\n",
            "Name: 10, dtype: object\n",
            "\n",
            "Студент с минимальным общим баллом:\n",
            "Группа                  Группа 9\n",
            "ФИО           Студент 3 Группа 3\n",
            "Предмет 1                     17\n",
            "Предмет 2                      7\n",
            "Предмет 3                     41\n",
            "Общий балл                    65\n",
            "Name: 8, dtype: object\n",
            "\n",
            "Введите фамилию студента: 3\n",
            "Информация о студенте 3:\n",
            "       Группа                 ФИО  Предмет 1  Предмет 2  Предмет 3  Общий балл\n",
            "2    Группа 3  Студент 3 Группа 1         79         25          1         105\n",
            "5    Группа 6  Студент 3 Группа 2         72         69         37         178\n",
            "6    Группа 7  Студент 1 Группа 3         52         63         55         170\n",
            "7    Группа 8  Студент 2 Группа 3         55         30          4          89\n",
            "8    Группа 9  Студент 3 Группа 3         17          7         41          65\n",
            "11  Группа 12  Студент 3 Группа 4         76         51          3         130\n",
            "\n",
            "Введите номер группы (1-4): 4\n",
            "Информация по успеваемости группы 4:\n",
            "     Группа                 ФИО  Предмет 1  Предмет 2  Предмет 3  Общий балл\n",
            "3  Группа 4  Студент 1 Группа 2         99         31         36         166\n",
            "\n"
          ]
        },
        {
          "output_type": "display_data",
          "data": {
            "text/plain": [
              "<Figure size 1200x600 with 1 Axes>"
            ],
            "image/png": "[encoded data removed]"
          },
          "metadata": {}
        }
      ]
    },
    {
      "cell_type": "code",
      "source": [
        "import pandas as pd\n",
        "\n",
        "# Загрузка данных из файла Excel\n",
        "df = pd.read_excel('100_best_books.xlsx')\n",
        "\n",
        "# Сортировка списка по названию книги\n",
        "df = df.sort_values('Название')\n",
        "\n",
        "# Вывод 10 книг с наибольшим количеством голосов\n",
        "print(\"10 книг с наибольшим количеством голосов:\")\n",
        "print(df.nlargest(10, 'Голоса'))\n",
        "print()\n",
        "\n",
        "# Вывод данных за 1870-1900 года\n",
        "print(\"Данные за 1870-1900 года:\")\n",
        "print(df[(df['Год'] >= 1870) & (df['Год'] <= 1900)])\n",
        "print()\n",
        "\n",
        "# Вывод количества книг каждого автора\n",
        "print(\"Количество книг каждого автора:\")\n",
        "print(df.groupby('Автор')['Название'].count().sort_values(ascending=False))\n",
        "print()\n",
        "\n",
        "# Вывод книг со средним баллом выше 2\n",
        "print(\"Книги со средним баллом выше 2:\")\n",
        "print(df[df['Средний балл'] > 2])\n",
        "print()\n",
        "\n",
        "# Вывод произведений автора по введенному имени\n",
        "author_name = input(\"Введите имя автора: \")\n",
        "author_books = df[df['Автор'].str.contains(author_name)]\n",
        "print(f\"Произведения автора {author_name}:\")\n",
        "print(author_books)\n",
        "print()\n",
        "\n",
        "# Построение диаграммы количества книг каждого автора\n",
        "df.groupby('Автор')['Название'].count().sort_values(ascending=False).plot(kind='bar')\n",
        "plt.title('Количество книг каждого автора')\n",
        "plt.xlabel('Автор')\n",
        "plt.ylabel('Количество книг')\n",
        "plt.show()\n"
      ],
      "metadata": {
        "id": "VCEINrNLSS9v"
      },
      "execution_count": null,
      "outputs": []
    },
    {
      "cell_type": "code",
      "source": [
        "!pip install requests"
      ],
      "metadata": {
        "colab": {
          "base_uri": "https://localhost:8080/"
        },
        "id": "imDgdlGajkri",
        "outputId": "73945e8f-c192-42f2-f7fa-a84c11d88294"
      },
      "execution_count": null,
      "outputs": [
        {
          "output_type": "stream",
          "name": "stdout",
          "text": [
            "Requirement already satisfied: requests in /usr/local/lib/python3.10/dist-packages (2.31.0)\n",
            "Requirement already satisfied: charset-normalizer<4,>=2 in /usr/local/lib/python3.10/dist-packages (from requests) (3.3.2)\n",
            "Requirement already satisfied: idna<4,>=2.5 in /usr/local/lib/python3.10/dist-packages (from requests) (3.7)\n",
            "Requirement already satisfied: urllib3<3,>=1.21.1 in /usr/local/lib/python3.10/dist-packages (from requests) (2.0.7)\n",
            "Requirement already satisfied: certifi>=2017.4.17 in /usr/local/lib/python3.10/dist-packages (from requests) (2024.2.2)\n"
          ]
        }
      ]
    },
    {
      "cell_type": "code",
      "source": [
        "import requests\n",
        "\n",
        "city = input('Введите название города: ')\n",
        "appid = '1520f34cb52423e681e32deeec936c11'\n",
        "api = f'https://api.openweathermap.org/data/2.5/weather?appid={appid}&q={city}'\n",
        "\n",
        "resp = requests.get(api)\n",
        "resp = resp.json()\n",
        "print(resp)\n",
        "if resp['cod'] == '404':\n",
        "    print(f\"Город '{city}' не найден.\")\n",
        "else:\n",
        "    current_temp = resp['main']['temp']\n",
        "    celsius_temp = round(current_temp - 273.15)\n",
        "    print(f\"Текущая температура в городе {city}: {celsius_temp}°C\")\n"
      ],
      "metadata": {
        "colab": {
          "base_uri": "https://localhost:8080/"
        },
        "id": "yTF6Z0SEjlMb",
        "outputId": "50975237-46a6-47ad-b8e1-135aab396d26"
      },
      "execution_count": 6,
      "outputs": [
        {
          "output_type": "stream",
          "name": "stdout",
          "text": [
            "Введите название города: Москва\n",
            "{'coord': {'lon': 37.6156, 'lat': 55.7522}, 'weather': [{'id': 804, 'main': 'Clouds', 'description': 'overcast clouds', 'icon': '04d'}], 'base': 'stations', 'main': {'temp': 302.34, 'feels_like': 301.18, 'temp_min': 302.09, 'temp_max': 302.9, 'pressure': 1015, 'humidity': 30, 'sea_level': 1015, 'grnd_level': 997}, 'visibility': 10000, 'wind': {'speed': 4.26, 'deg': 84, 'gust': 5.22}, 'clouds': {'all': 86}, 'dt': 1717241873, 'sys': {'type': 2, 'id': 2000314, 'country': 'RU', 'sunrise': 1717203185, 'sunset': 1717264924}, 'timezone': 10800, 'id': 524901, 'name': 'Moscow', 'cod': 200}\n",
            "Текущая температура в городе Москва: 29°C\n"
          ]
        }
      ]
    }
  ]
}